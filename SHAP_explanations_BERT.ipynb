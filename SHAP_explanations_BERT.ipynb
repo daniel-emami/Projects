{
 "cells": [
  {
   "cell_type": "code",
   "execution_count": null,
   "metadata": {},
   "outputs": [],
   "source": [
    "!pip install scipy\n",
    "!pip install xformers\n",
    "!pip install numpy==1.23.3"
   ]
  },
  {
   "cell_type": "code",
   "execution_count": null,
   "metadata": {},
   "outputs": [],
   "source": [
    "import pandas as pd\n",
    "import numpy as np\n",
    "import scipy as sp\n",
    "import matplotlib.pyplot as plt\n",
    "import torch\n",
    "import transformers\n",
    "import shap\n",
    "import xformers\n",
    "from transformers import BertTokenizer, BertForSequenceClassification"
   ]
  },
  {
   "cell_type": "code",
   "execution_count": null,
   "metadata": {},
   "outputs": [],
   "source": [
    "test_data = pd.read_csv(\"data/test_new.csv\")\n",
    "\n",
    "# Converting bools to binary\n",
    "test_data[\"labels\"] = test_data[\"labels\"].astype(int)\n",
    "\n",
    "idx = 43 # Which article to predict and explain\n",
    "df = test_data.head(10)\n",
    "x = [test_data[\"text\"][idx]]"
   ]
  },
  {
   "cell_type": "code",
   "execution_count": null,
   "metadata": {},
   "outputs": [],
   "source": [
    "# Load the BERT tokenizer.\n",
    "print('Loading BERT tokenizer...')\n",
    "tokenizer = BertTokenizer.from_pretrained('chcaa/dfm-encoder-large-v1', do_lower_case=True)\n",
    "tokenizer.model_max_length = 512\n",
    "tokenizer.max_length = 512\n",
    "tokenizer.truncation = True"
   ]
  },
  {
   "cell_type": "code",
   "execution_count": null,
   "metadata": {},
   "outputs": [],
   "source": [
    "model = BertForSequenceClassification.from_pretrained('model_test_new1', num_labels=2)\n",
    "\n",
    "pipe = transformers.pipeline(\"text-classification\", model=model, tokenizer=tokenizer, top_k=None, padding=True, truncation=True, max_length = 512) # , padding=True, truncation=True\n",
    "\n",
    "pred = pipe(x, padding=True, truncation=True, max_length = 512)"
   ]
  },
  {
   "cell_type": "code",
   "execution_count": null,
   "metadata": {},
   "outputs": [],
   "source": [
    "test_data['predictions'] = None # add a new column for predictions\n",
    "\n",
    "# appending predictions to the predictions column\n",
    "for preds in range(len(pred)):\n",
    "    if pred[preds][0]['label'] == 'LABEL_0':\n",
    "        test_data.loc[preds, 'predictions'] = 0\n",
    "    else:\n",
    "        test_data.loc[preds, 'predictions'] = 1"
   ]
  },
  {
   "cell_type": "code",
   "execution_count": null,
   "metadata": {},
   "outputs": [],
   "source": [
    "# How many articles are correctly and wrongly classified \n",
    "(test_data['labels'] == test_data['predictions']).value_counts()"
   ]
  },
  {
   "cell_type": "code",
   "execution_count": null,
   "metadata": {},
   "outputs": [],
   "source": [
    "print(pred)"
   ]
  },
  {
   "cell_type": "code",
   "execution_count": null,
   "metadata": {},
   "outputs": [],
   "source": [
    "# Create an explainer for the pipeline\n",
    "explainer = shap.Explainer(pipe)\n",
    "\n",
    "# Compute SHAP values\n",
    "shap_values = explainer(x)\n",
    "\n",
    "# Create SHAP plot\n",
    "shap.plots.text(shap_values)"
   ]
  }
 ],
 "metadata": {
  "kernelspec": {
   "display_name": "Python 3",
   "language": "python",
   "name": "python3"
  },
  "language_info": {
   "codemirror_mode": {
    "name": "ipython",
    "version": 3
   },
   "file_extension": ".py",
   "mimetype": "text/x-python",
   "name": "python",
   "nbconvert_exporter": "python",
   "pygments_lexer": "ipython3",
   "version": "3.10.7"
  },
  "orig_nbformat": 4
 },
 "nbformat": 4,
 "nbformat_minor": 2
}

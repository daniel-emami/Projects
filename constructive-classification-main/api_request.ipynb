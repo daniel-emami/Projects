{
 "cells": [
  {
   "cell_type": "code",
   "execution_count": 1,
   "metadata": {},
   "outputs": [],
   "source": [
    "import numpy as np\n",
    "from api_functions import *"
   ]
  },
  {
   "cell_type": "code",
   "execution_count": null,
   "metadata": {},
   "outputs": [],
   "source": [
    "url = 'https://public.fyn.bazo.dk/v1/articles?include[]=activeContentRevision.authors&page[size]=100&page[number]='\n",
    "pages = 100\n",
    "\n",
    "articles_df = api_request(url, pages)\n",
    "articles_df = articles_df.replace(r'^\\s*$', np.nan, regex=True) # Sets empty entries to NaN\n",
    "articles_df.head()\n",
    "articles_df = articles_df[articles_df['article_body'].notna()].reset_index(drop=True)\n",
    "articles_df.to_feather('articles_df_scraped.feather')"
   ]
  },
  {
   "cell_type": "code",
   "execution_count": null,
   "metadata": {},
   "outputs": [],
   "source": []
  },
  {
   "cell_type": "code",
   "execution_count": null,
   "metadata": {},
   "outputs": [],
   "source": []
  }
 ],
 "metadata": {
  "kernelspec": {
   "display_name": "withpip",
   "language": "python",
   "name": "python3"
  },
  "language_info": {
   "codemirror_mode": {
    "name": "ipython",
    "version": 3
   },
   "file_extension": ".py",
   "mimetype": "text/x-python",
   "name": "python",
   "nbconvert_exporter": "python",
   "pygments_lexer": "ipython3",
   "version": "3.9.15"
  },
  "orig_nbformat": 4,
  "vscode": {
   "interpreter": {
    "hash": "6c806f684894c34313ed67198043d86ce0c247a0773f2d84d25fc9b0dd277911"
   }
  }
 },
 "nbformat": 4,
 "nbformat_minor": 2
}
